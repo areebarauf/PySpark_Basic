{
 "cells": [
  {
   "cell_type": "markdown",
   "id": "eca852d0",
   "metadata": {},
   "source": [
    "# Exercise 1: Apache Spark Basics"
   ]
  },
  {
   "cell_type": "code",
   "execution_count": 2,
   "id": "c5b04d38",
   "metadata": {},
   "outputs": [],
   "source": [
    "import pyspark\n",
    "from pyspark import SparkContext\n",
    "from pyspark.sql import SparkSession\n",
    "from pyspark.sql import SQLContext"
   ]
  },
  {
   "cell_type": "markdown",
   "id": "72510d88",
   "metadata": {},
   "source": [
    "### 1.Perform rightOuterJoin and fullOuterJoin operations between a and b. Briefly explain your solution.\n",
    "1. used parallelize of feed the data as rdd in spark system "
   ]
  },
  {
   "cell_type": "code",
   "execution_count": 3,
   "id": "94d106e3",
   "metadata": {},
   "outputs": [],
   "source": [
    "rdd_a = sc.parallelize([\"spark\", \"rdd\", \"python\", \"context\", \"create\", \"class\"])"
   ]
  },
  {
   "cell_type": "code",
   "execution_count": 4,
   "id": "b233568e",
   "metadata": {},
   "outputs": [],
   "source": [
    "rdd_b = sc.parallelize([\"operation\", \"apache\", \"scala\", \"lambda\",\"parallel\",\"partition\"])"
   ]
  },
  {
   "cell_type": "markdown",
   "id": "fcf3a3ac",
   "metadata": {},
   "source": [
    " 2. mapping the data list in order to reduce later based on the keys "
   ]
  },
  {
   "cell_type": "code",
   "execution_count": 5,
   "id": "b2c3e2e5",
   "metadata": {
    "scrolled": true
   },
   "outputs": [
    {
     "name": "stdout",
     "output_type": "stream",
     "text": [
      "('spark', 1)\n",
      "('rdd', 1)\n",
      "('python', 1)\n",
      "('context', 1)\n",
      "('create', 1)\n",
      "('class', 1)\n"
     ]
    }
   ],
   "source": [
    "a = rdd_a.map(lambda x: (x,1))\n",
    "for element in a.collect():\n",
    "    print(element)"
   ]
  },
  {
   "cell_type": "code",
   "execution_count": 6,
   "id": "0f28ddaa",
   "metadata": {
    "scrolled": true
   },
   "outputs": [
    {
     "name": "stdout",
     "output_type": "stream",
     "text": [
      "('operation', 1)\n",
      "('apache', 1)\n",
      "('scala', 1)\n",
      "('lambda', 1)\n",
      "('parallel', 1)\n",
      "('partition', 1)\n"
     ]
    }
   ],
   "source": [
    "b = rdd_b.map(lambda x: (x,1))\n",
    "for element in b.collect():\n",
    "    print(element)"
   ]
  },
  {
   "cell_type": "markdown",
   "id": "2aa7ddcd",
   "metadata": {},
   "source": [
    "\n",
    "2. applied Right outer join on the two datasets by using rightOuterJoin"
   ]
  },
  {
   "cell_type": "code",
   "execution_count": 7,
   "id": "bef64297",
   "metadata": {
    "scrolled": false
   },
   "outputs": [
    {
     "name": "stdout",
     "output_type": "stream",
     "text": [
      "scala\n",
      "operation\n",
      "apache\n",
      "parallel\n",
      "partition\n",
      "lambda\n"
     ]
    }
   ],
   "source": [
    "right_outer_join = a.rightOuterJoin(b)\n",
    "right_outer_join = right_outer_join.map(lambda x : x[0])\n",
    "for element in right_outer_join.collect():\n",
    "    print(element)"
   ]
  },
  {
   "cell_type": "markdown",
   "id": "71992c02",
   "metadata": {},
   "source": [
    "3. applied Full outer join on the two datasets by using rightOuterJoin"
   ]
  },
  {
   "cell_type": "code",
   "execution_count": 8,
   "id": "2056fb38",
   "metadata": {
    "scrolled": true
   },
   "outputs": [
    {
     "name": "stdout",
     "output_type": "stream",
     "text": [
      "python\n",
      "context\n",
      "scala\n",
      "rdd\n",
      "operation\n",
      "apache\n",
      "spark\n",
      "create\n",
      "parallel\n",
      "partition\n",
      "lambda\n",
      "class\n"
     ]
    }
   ],
   "source": [
    "full_outer_join = a.fullOuterJoin(b)\n",
    "full_outer_join = full_outer_join.map(lambda x : x[0])\n",
    "for element in full_outer_join.collect():\n",
    "    print(element)"
   ]
  },
  {
   "cell_type": "markdown",
   "id": "7ee397ba",
   "metadata": {},
   "source": [
    "### Using map and reduce functions to count how many times the character \"s\" appears in all a and b.\n",
    "4. Applying keys to the full outer join output to get the s count from the words in this variable"
   ]
  },
  {
   "cell_type": "code",
   "execution_count": 9,
   "id": "4e2d0491",
   "metadata": {
    "scrolled": true
   },
   "outputs": [
    {
     "data": {
      "text/plain": [
       "[('python', 1),\n",
       " ('context', 1),\n",
       " ('scala', 1),\n",
       " ('rdd', 1),\n",
       " ('operation', 1),\n",
       " ('apache', 1),\n",
       " ('spark', 1),\n",
       " ('create', 1),\n",
       " ('parallel', 1),\n",
       " ('partition', 1),\n",
       " ('lambda', 1),\n",
       " ('class', 1)]"
      ]
     },
     "execution_count": 9,
     "metadata": {},
     "output_type": "execute_result"
    }
   ],
   "source": [
    "a_with_s = full_outer_join.map(lambda x: (x,1))\n",
    "a_with_s.collect()\n"
   ]
  },
  {
   "cell_type": "markdown",
   "id": "1d7ad374",
   "metadata": {},
   "source": [
    "5. definition intialization for checking the s word. It checks the word at every character ans if the word has a s in it the count variable will be added with 1 each time "
   ]
  },
  {
   "cell_type": "code",
   "execution_count": 10,
   "id": "d874b989",
   "metadata": {},
   "outputs": [],
   "source": [
    "def check_for_s(word):\n",
    "    count = 0\n",
    "    for idx in word:\n",
    "        if idx == 's':\n",
    "                count += 1\n",
    "    return count"
   ]
  },
  {
   "cell_type": "markdown",
   "id": "ac242b1d",
   "metadata": {},
   "source": [
    "6. Using map with the above definition to assign the number of s in a word as the key to every word in the full outer join output\n",
    "7. The newly mapped keys with the number of s as keys are reduced to get the total number of s in all the words by using spark hadoop map reduce methods"
   ]
  },
  {
   "cell_type": "code",
   "execution_count": 11,
   "id": "899292a7",
   "metadata": {},
   "outputs": [],
   "source": [
    "count_s_words = a_with_s.map(lambda x:(x[0], check_for_s(x[0])))\n",
    "count_from_reduce = count_s_words.map(lambda a:a[1]).reduce(lambda a,b:a+b)"
   ]
  },
  {
   "cell_type": "code",
   "execution_count": 12,
   "id": "5c6de70e",
   "metadata": {},
   "outputs": [
    {
     "data": {
      "text/plain": [
       "4"
      ]
     },
     "execution_count": 12,
     "metadata": {},
     "output_type": "execute_result"
    }
   ],
   "source": [
    "count_from_reduce"
   ]
  },
  {
   "cell_type": "markdown",
   "id": "a6667060",
   "metadata": {},
   "source": [
    "### Using aggregate function to count how many times the character \"s\" appears in all a and b.\n",
    "8. now using the aggreagte method of spark we have first done the similar thing as we are first assigning the nuber of s charscters in each word by using the above method and than adding all the counts to the the total number"
   ]
  },
  {
   "cell_type": "code",
   "execution_count": 13,
   "id": "d77cc376",
   "metadata": {},
   "outputs": [],
   "source": [
    "count_from_aggregate = a_with_s.aggregate(0,lambda a,x: a + check_for_s(x[0]), lambda a,b: a+b)"
   ]
  },
  {
   "cell_type": "code",
   "execution_count": 14,
   "id": "e09ed431",
   "metadata": {},
   "outputs": [
    {
     "data": {
      "text/plain": [
       "4"
      ]
     },
     "execution_count": 14,
     "metadata": {},
     "output_type": "execute_result"
    }
   ],
   "source": [
    "count_from_aggregate"
   ]
  },
  {
   "cell_type": "markdown",
   "id": "e352a5cf",
   "metadata": {},
   "source": [
    "# Part b) Basic Operations on DataFrames\n",
    "### 1. Replace the null value(s) in column points by the mean of all points."
   ]
  },
  {
   "cell_type": "code",
   "execution_count": 15,
   "id": "0b322fa0",
   "metadata": {},
   "outputs": [],
   "source": [
    "from pyspark import SparkFiles\n",
    "df = sqlContext.read.json(\"students.json\")"
   ]
  },
  {
   "cell_type": "code",
   "execution_count": 16,
   "id": "aa6ceb8a",
   "metadata": {},
   "outputs": [
    {
     "name": "stdout",
     "output_type": "stream",
     "text": [
      "+------------------+------------------+----------+---------+------+----+\n",
      "|            course|               dob|first_name|last_name|points|s_id|\n",
      "+------------------+------------------+----------+---------+------+----+\n",
      "|Humanities and Art|  October 14, 1983|      Alan|      Joe|    10|   1|\n",
      "|  Computer Science|September 26, 1980|    Martin|  Genberg|    17|   2|\n",
      "|    Graphic Design|     June 12, 1982|     Athur|   Watson|    16|   3|\n",
      "|    Graphic Design|     April 5, 1987|  Anabelle|  Sanberg|    12|   4|\n",
      "|        Psychology|  November 1, 1978|      Kira| Schommer|    11|   5|\n",
      "|          Business|  17 February 1981| Christian|   Kiriam|    10|   6|\n",
      "|  Machine Learning|    1 January 1984|   Barbara|  Ballard|    14|   7|\n",
      "|     Deep Learning|  January 13, 1978|      John|     null|    10|   8|\n",
      "|  Machine Learning|  26 December 1989|    Marcus|   Carson|    15|   9|\n",
      "|           Physics|  30 December 1987|     Marta|   Brooks|    11|  10|\n",
      "|    Data Analytics|     June 12, 1975|     Holly| Schwartz|    12|  11|\n",
      "|  Computer Science|      July 2, 1985|     April|    Black|  null|  12|\n",
      "|  Computer Science|     July 22, 1980|     Irene|  Bradley|    13|  13|\n",
      "|        Psychology|   7 February 1986|      Mark|    Weber|    12|  14|\n",
      "|       Informatics|      May 18, 1987|     Rosie|   Norman|     9|  15|\n",
      "|          Business|   August 10, 1984|    Martin|   Steele|     7|  16|\n",
      "|  Machine Learning|  16 December 1990|     Colin| Martinez|     9|  17|\n",
      "|    Data Analytics|              null|   Bridget|    Twain|     6|  18|\n",
      "|          Business|      7 March 1980|   Darlene|    Mills|    19|  19|\n",
      "|    Data Analytics|      June 2, 1985|   Zachary|     null|    10|  20|\n",
      "+------------------+------------------+----------+---------+------+----+\n",
      "\n"
     ]
    }
   ],
   "source": [
    "df.show()"
   ]
  },
  {
   "cell_type": "markdown",
   "id": "57006391",
   "metadata": {},
   "source": [
    "9. After loading the dataset into sparks dataframe, I have converted the points column into numpy array to calculate mean of all points by looping through the data in array.\n",
    "10. after calculating mean I have replaced the null value in the dataset in points column by using dataframe null fill methods.\n",
    "### Replace the null value(s) in column dob and column last name by \"unknown\" and \"--\" respectively.\n",
    "11. Similarly, filled the null values in the dob and lastname columns with 'unknown' and '--' respectivelty."
   ]
  },
  {
   "cell_type": "code",
   "execution_count": 17,
   "id": "7b0af636",
   "metadata": {
    "scrolled": true
   },
   "outputs": [
    {
     "name": "stdout",
     "output_type": "stream",
     "text": [
      "On 11 row is a [None]\n",
      "+------------------+------------------+----------+---------+------+----+\n",
      "|            course|               dob|first_name|last_name|points|s_id|\n",
      "+------------------+------------------+----------+---------+------+----+\n",
      "|Humanities and Art|  October 14, 1983|      Alan|      Joe|    10|   1|\n",
      "|  Computer Science|September 26, 1980|    Martin|  Genberg|    17|   2|\n",
      "|    Graphic Design|     June 12, 1982|     Athur|   Watson|    16|   3|\n",
      "|    Graphic Design|     April 5, 1987|  Anabelle|  Sanberg|    12|   4|\n",
      "|        Psychology|  November 1, 1978|      Kira| Schommer|    11|   5|\n",
      "|          Business|  17 February 1981| Christian|   Kiriam|    10|   6|\n",
      "|  Machine Learning|    1 January 1984|   Barbara|  Ballard|    14|   7|\n",
      "|     Deep Learning|  January 13, 1978|      John|       --|    10|   8|\n",
      "|  Machine Learning|  26 December 1989|    Marcus|   Carson|    15|   9|\n",
      "|           Physics|  30 December 1987|     Marta|   Brooks|    11|  10|\n",
      "|    Data Analytics|     June 12, 1975|     Holly| Schwartz|    12|  11|\n",
      "|  Computer Science|      July 2, 1985|     April|    Black|    11|  12|\n",
      "|  Computer Science|     July 22, 1980|     Irene|  Bradley|    13|  13|\n",
      "|        Psychology|   7 February 1986|      Mark|    Weber|    12|  14|\n",
      "|       Informatics|      May 18, 1987|     Rosie|   Norman|     9|  15|\n",
      "|          Business|   August 10, 1984|    Martin|   Steele|     7|  16|\n",
      "|  Machine Learning|  16 December 1990|     Colin| Martinez|     9|  17|\n",
      "|    Data Analytics|           unknown|   Bridget|    Twain|     6|  18|\n",
      "|          Business|      7 March 1980|   Darlene|    Mills|    19|  19|\n",
      "|    Data Analytics|      June 2, 1985|   Zachary|       --|    10|  20|\n",
      "+------------------+------------------+----------+---------+------+----+\n",
      "\n"
     ]
    }
   ],
   "source": [
    "#Replace the null value(s) in column points by the mean of all points.\n",
    "import numpy as np\n",
    "import math\n",
    "sum = 0\n",
    "x = np.array(df.select(\"points\").collect()) \n",
    "for i, data in enumerate(x):\n",
    "    if data == None:\n",
    "        print(f'On {i} row is a {data}')\n",
    "    else:\n",
    "        sum = sum + data\n",
    "\n",
    "mean_points = sum/len(x)\n",
    "mean_points[0]\n",
    "df_point = df.na.fill(value=mean_points[0],subset=[\"points\"])\n",
    "df_dob = df_point.na.fill(value='unknown', subset=[\"dob\"])\n",
    "df = df_dob.na.fill(value='--', subset=[\"last_name\"])\n",
    "df.show()\n",
    "#df.na.fill(value='NO VALUE',subset=[\"dob\", \"first_name\", \"last_name\"]).show()"
   ]
  },
  {
   "cell_type": "markdown",
   "id": "58743c2d",
   "metadata": {},
   "source": [
    "### In the dob column, there exist several formats of dates, e.g. October 14, 1983 and 26 December 1989. Let's convert all the dates into DD-MM-YYYY format where DD, MM and YYYY are two digits for day, two digits for months and four digits for year respectively."
   ]
  },
  {
   "cell_type": "markdown",
   "id": "490c11b6",
   "metadata": {},
   "source": [
    "1. I wrote a method to assign the month number to the month word"
   ]
  },
  {
   "cell_type": "code",
   "execution_count": 18,
   "id": "64571154",
   "metadata": {},
   "outputs": [],
   "source": [
    "def month_string_to_number(string):\n",
    "    m = {\n",
    "        'jan': '01',\n",
    "        'feb': '02',\n",
    "        'mar': '03',\n",
    "        'apr': '04',\n",
    "         'may':'05',\n",
    "         'jun':'06',\n",
    "         'jul':'07',\n",
    "         'aug':'08',\n",
    "         'sep':'09',\n",
    "         'oct':'10',\n",
    "         'nov':'11',\n",
    "         'dec':'12'\n",
    "        }\n",
    "    s = string.strip()[:3].lower()\n",
    "    try:\n",
    "        out = m[s]\n",
    "        return out\n",
    "    except:\n",
    "        raise ValueError('Not a month')\n"
   ]
  },
  {
   "cell_type": "markdown",
   "id": "4042db14",
   "metadata": {},
   "source": [
    "#### 2. made another method to convert the date into the format given as DD-MM-YYYY.\n",
    "  ##### a. Firstly, I have intialized the month, date and year variable to split the values from each string and store the       converted parts in these variables\n",
    "  ##### b. Then I have removed commas in the string \n",
    "  ##### c. then I have split the transformed string by space in the string to seperte the words\n",
    "  ##### d. Then the following for loop iterates through the split list of month, date and year.\n",
    "  ##### c. It then checks id the coming string has alphabets which means its going to be the month so it assigns the month its respective month value\n",
    "  ##### d. if the string is not alpha then then it checks the length of the string, if it is four that means year and less than that is month and I then transform the date with a padded 0 if the length is 1 \n",
    "  ##### e. then I am concatinating the transformed strings into the required format"
   ]
  },
  {
   "cell_type": "code",
   "execution_count": 22,
   "id": "f35e227e",
   "metadata": {},
   "outputs": [],
   "source": [
    "from pyspark.sql.functions import lit\n",
    "from pyspark.sql import functions as F \n",
    "\n",
    "def convert_date(dob):\n",
    "    print(dob)\n",
    "    Month = \"\"\n",
    "    Date = \"\"\n",
    "    Year = \"\"\n",
    "    Date_concat = None\n",
    "    date_string = str(dob)\n",
    "    date_list = []\n",
    "    transformed_string=date_string.replace(\",\",\"\")\n",
    "    print(transformed_string)\n",
    "    list_dm = transformed_string.split(' ')\n",
    "    print(list_dm)\n",
    "    #print(list_dm)\n",
    "    for i , values in enumerate(list_dm):\n",
    "        if values.isalpha():\n",
    "            if values == 'unknown':\n",
    "                Date_concat = 'unknown'\n",
    "                continue\n",
    "            else:\n",
    "                Month = month_string_to_number(values)\n",
    "        else:\n",
    "            if len(values) == 4:\n",
    "                Year = values\n",
    "            else:\n",
    "                Date = values\n",
    "                if len(Date) > 1:\n",
    "                    Date = values\n",
    "                else:\n",
    "                    Date = \"0\"+ Date\n",
    "\n",
    "        Date_concat = Date + \"-\" + Month + \"-\" + Year\n",
    "    return Date_concat\n",
    "    \n",
    "\n",
    "#     df2 = df.withColumn(\"date\", lit(str(lit_lst)))\n",
    "#     print(date_list)\n"
   ]
  },
  {
   "cell_type": "code",
   "execution_count": 23,
   "id": "a32c43b0",
   "metadata": {},
   "outputs": [
    {
     "name": "stdout",
     "output_type": "stream",
     "text": [
      "October 14, 1983\n",
      "October 14 1983\n",
      "['October', '14', '1983']\n"
     ]
    },
    {
     "data": {
      "text/plain": [
       "'14-10-1983'"
      ]
     },
     "execution_count": 23,
     "metadata": {},
     "output_type": "execute_result"
    }
   ],
   "source": [
    "# Insert a new column age and calculate the current age of all students.\n",
    "#df['new_dob'] = np.array(date_list)\n",
    "value = convert_date('October 14, 1983')\n",
    "value\n",
    "#df2 = df.withColumn(\"date\", lit(str(date_list)))\n",
    "# df2.show()"
   ]
  },
  {
   "cell_type": "markdown",
   "id": "e3fee463",
   "metadata": {},
   "source": [
    "Adding a new column to the dataframe with the transformed dates by using pyspark sql functions which takes user defined functions to add values by iterating through the dataframe itself"
   ]
  },
  {
   "cell_type": "code",
   "execution_count": 25,
   "id": "27aeef30",
   "metadata": {},
   "outputs": [],
   "source": [
    "from pyspark.sql.types import StructType\n",
    "\n",
    "from pyspark.sql.types import *\n",
    "df = df.withColumn(\"new_date\",  F.udf(convert_date, StringType())(F.col(\"dob\")))"
   ]
  },
  {
   "cell_type": "code",
   "execution_count": 26,
   "id": "2fd97692",
   "metadata": {},
   "outputs": [
    {
     "name": "stdout",
     "output_type": "stream",
     "text": [
      "+------------------+------------------+----------+---------+------+----+----------+\n",
      "|            course|               dob|first_name|last_name|points|s_id|  new_date|\n",
      "+------------------+------------------+----------+---------+------+----+----------+\n",
      "|Humanities and Art|  October 14, 1983|      Alan|      Joe|    10|   1|14-10-1983|\n",
      "|  Computer Science|September 26, 1980|    Martin|  Genberg|    17|   2|26-09-1980|\n",
      "|    Graphic Design|     June 12, 1982|     Athur|   Watson|    16|   3|12-06-1982|\n",
      "|    Graphic Design|     April 5, 1987|  Anabelle|  Sanberg|    12|   4|05-04-1987|\n",
      "|        Psychology|  November 1, 1978|      Kira| Schommer|    11|   5|01-11-1978|\n",
      "|          Business|  17 February 1981| Christian|   Kiriam|    10|   6|17-02-1981|\n",
      "|  Machine Learning|    1 January 1984|   Barbara|  Ballard|    14|   7|01-01-1984|\n",
      "|     Deep Learning|  January 13, 1978|      John|       --|    10|   8|13-01-1978|\n",
      "|  Machine Learning|  26 December 1989|    Marcus|   Carson|    15|   9|26-12-1989|\n",
      "|           Physics|  30 December 1987|     Marta|   Brooks|    11|  10|30-12-1987|\n",
      "|    Data Analytics|     June 12, 1975|     Holly| Schwartz|    12|  11|12-06-1975|\n",
      "|  Computer Science|      July 2, 1985|     April|    Black|    11|  12|02-07-1985|\n",
      "|  Computer Science|     July 22, 1980|     Irene|  Bradley|    13|  13|22-07-1980|\n",
      "|        Psychology|   7 February 1986|      Mark|    Weber|    12|  14|07-02-1986|\n",
      "|       Informatics|      May 18, 1987|     Rosie|   Norman|     9|  15|18-05-1987|\n",
      "|          Business|   August 10, 1984|    Martin|   Steele|     7|  16|10-08-1984|\n",
      "|  Machine Learning|  16 December 1990|     Colin| Martinez|     9|  17|16-12-1990|\n",
      "|    Data Analytics|           unknown|   Bridget|    Twain|     6|  18|   unknown|\n",
      "|          Business|      7 March 1980|   Darlene|    Mills|    19|  19|07-03-1980|\n",
      "|    Data Analytics|      June 2, 1985|   Zachary|       --|    10|  20|02-06-1985|\n",
      "+------------------+------------------+----------+---------+------+----+----------+\n",
      "\n"
     ]
    }
   ],
   "source": [
    "df.show()"
   ]
  },
  {
   "cell_type": "markdown",
   "id": "6c88568c",
   "metadata": {},
   "source": [
    "### Insert a new column age and calculate the current age of all students."
   ]
  },
  {
   "cell_type": "markdown",
   "id": "45eec4d1",
   "metadata": {},
   "source": [
    "1. for this task, I have made another methed for calulating age of all the students.\n",
    "2. I am using dateutil library to parse the string to datetime formate to calculate the current age of all students\n",
    "3. using datetime to get the current date, which is then subtracted from the date of birth to get teh age"
   ]
  },
  {
   "cell_type": "code",
   "execution_count": 27,
   "id": "70455f68",
   "metadata": {},
   "outputs": [],
   "source": [
    "from datetime import date\n",
    "from dateutil import parser\n",
    " \n",
    "def age(birthdate):\n",
    "    age = 0\n",
    "    if birthdate == 'unknown':\n",
    "        age = 'unknown'\n",
    "    else:\n",
    "        #date_time_obj = datetime.strptime(birthdate,'%d-%m-%y')\n",
    "        dt_obj = parser.parse(birthdate)\n",
    "        print(dt_obj)\n",
    "        today = date.today()\n",
    "        age = today.year - dt_obj.year - ((today.month, today.day) < (dt_obj.month, dt_obj.day))\n",
    "    return age"
   ]
  },
  {
   "cell_type": "code",
   "execution_count": 28,
   "id": "4dbae151",
   "metadata": {},
   "outputs": [
    {
     "name": "stdout",
     "output_type": "stream",
     "text": [
      "+------------------+------------------+----------+---------+------+----+----------+-------+\n",
      "|            course|               dob|first_name|last_name|points|s_id|  new_date|    age|\n",
      "+------------------+------------------+----------+---------+------+----+----------+-------+\n",
      "|Humanities and Art|  October 14, 1983|      Alan|      Joe|    10|   1|14-10-1983|     38|\n",
      "|  Computer Science|September 26, 1980|    Martin|  Genberg|    17|   2|26-09-1980|     41|\n",
      "|    Graphic Design|     June 12, 1982|     Athur|   Watson|    16|   3|12-06-1982|     39|\n",
      "|    Graphic Design|     April 5, 1987|  Anabelle|  Sanberg|    12|   4|05-04-1987|     35|\n",
      "|        Psychology|  November 1, 1978|      Kira| Schommer|    11|   5|01-11-1978|     44|\n",
      "|          Business|  17 February 1981| Christian|   Kiriam|    10|   6|17-02-1981|     41|\n",
      "|  Machine Learning|    1 January 1984|   Barbara|  Ballard|    14|   7|01-01-1984|     38|\n",
      "|     Deep Learning|  January 13, 1978|      John|       --|    10|   8|13-01-1978|     44|\n",
      "|  Machine Learning|  26 December 1989|    Marcus|   Carson|    15|   9|26-12-1989|     32|\n",
      "|           Physics|  30 December 1987|     Marta|   Brooks|    11|  10|30-12-1987|     34|\n",
      "|    Data Analytics|     June 12, 1975|     Holly| Schwartz|    12|  11|12-06-1975|     46|\n",
      "|  Computer Science|      July 2, 1985|     April|    Black|    11|  12|02-07-1985|     37|\n",
      "|  Computer Science|     July 22, 1980|     Irene|  Bradley|    13|  13|22-07-1980|     41|\n",
      "|        Psychology|   7 February 1986|      Mark|    Weber|    12|  14|07-02-1986|     36|\n",
      "|       Informatics|      May 18, 1987|     Rosie|   Norman|     9|  15|18-05-1987|     35|\n",
      "|          Business|   August 10, 1984|    Martin|   Steele|     7|  16|10-08-1984|     37|\n",
      "|  Machine Learning|  16 December 1990|     Colin| Martinez|     9|  17|16-12-1990|     31|\n",
      "|    Data Analytics|           unknown|   Bridget|    Twain|     6|  18|   unknown|unknown|\n",
      "|          Business|      7 March 1980|   Darlene|    Mills|    19|  19|07-03-1980|     42|\n",
      "|    Data Analytics|      June 2, 1985|   Zachary|       --|    10|  20|02-06-1985|     37|\n",
      "+------------------+------------------+----------+---------+------+----+----------+-------+\n",
      "\n"
     ]
    }
   ],
   "source": [
    "df = df.withColumn(\"age\",  F.udf(age, StringType())(F.col(\"new_date\")))\n",
    "df.show()"
   ]
  },
  {
   "cell_type": "markdown",
   "id": "5b6ca8c0",
   "metadata": {},
   "source": [
    "### Let's consider granting some points for good performed students in the class. For each student, if his point is larger than 1 standard deviation of all points, then we update his current point to 20, which is the maximum.\n",
    "1. Calulating the global standard deviation and mean usind pyspark sql command"
   ]
  },
  {
   "cell_type": "code",
   "execution_count": 29,
   "id": "a81178e7",
   "metadata": {},
   "outputs": [
    {
     "name": "stdout",
     "output_type": "stream",
     "text": [
      "+-----------------+------------+\n",
      "|   stddev(points)|mean(points)|\n",
      "+-----------------+------------+\n",
      "|3.246050231475656|        11.7|\n",
      "+-----------------+------------+\n",
      "\n"
     ]
    }
   ],
   "source": [
    "from pyspark.sql.functions import *\n",
    "df.createOrReplaceTempView(\"students\")\n",
    "spark.sql(\"select STDDEV(points), mean(points) from students\").show()"
   ]
  },
  {
   "cell_type": "markdown",
   "id": "41dbf22c",
   "metadata": {},
   "source": [
    "To caluate the new points, on 1 std formula, I have created the function which calculates the mean and standard deviation plus and minus to get the range.\n",
    "if point is greater than the highest range point than it will be changed to 20 otherwise it remains same "
   ]
  },
  {
   "cell_type": "code",
   "execution_count": 30,
   "id": "d87b19fe",
   "metadata": {},
   "outputs": [],
   "source": [
    "def assign_new_score(point):\n",
    "    std = 3.24605\n",
    "    points = 0\n",
    "    mean = 11.7\n",
    "    std_mean_plus = mean+std\n",
    "    std_mean_minus = mean-std\n",
    "    if point > std_mean_plus:\n",
    "        points = 20\n",
    "    else:\n",
    "        points = point\n",
    "    return points"
   ]
  },
  {
   "cell_type": "code",
   "execution_count": 31,
   "id": "0b249434",
   "metadata": {},
   "outputs": [],
   "source": [
    "df = df.withColumn(\"new_points\",  F.udf(assign_new_score, StringType())(F.col(\"points\")))"
   ]
  },
  {
   "cell_type": "code",
   "execution_count": 32,
   "id": "596e2b20",
   "metadata": {},
   "outputs": [
    {
     "name": "stdout",
     "output_type": "stream",
     "text": [
      "+------------------+------------------+----------+---------+------+----+----------+-------+----------+\n",
      "|            course|               dob|first_name|last_name|points|s_id|  new_date|    age|new_points|\n",
      "+------------------+------------------+----------+---------+------+----+----------+-------+----------+\n",
      "|Humanities and Art|  October 14, 1983|      Alan|      Joe|    10|   1|14-10-1983|     38|        10|\n",
      "|  Computer Science|September 26, 1980|    Martin|  Genberg|    17|   2|26-09-1980|     41|        20|\n",
      "|    Graphic Design|     June 12, 1982|     Athur|   Watson|    16|   3|12-06-1982|     39|        20|\n",
      "|    Graphic Design|     April 5, 1987|  Anabelle|  Sanberg|    12|   4|05-04-1987|     35|        12|\n",
      "|        Psychology|  November 1, 1978|      Kira| Schommer|    11|   5|01-11-1978|     44|        11|\n",
      "|          Business|  17 February 1981| Christian|   Kiriam|    10|   6|17-02-1981|     41|        10|\n",
      "|  Machine Learning|    1 January 1984|   Barbara|  Ballard|    14|   7|01-01-1984|     38|        14|\n",
      "|     Deep Learning|  January 13, 1978|      John|       --|    10|   8|13-01-1978|     44|        10|\n",
      "|  Machine Learning|  26 December 1989|    Marcus|   Carson|    15|   9|26-12-1989|     32|        20|\n",
      "|           Physics|  30 December 1987|     Marta|   Brooks|    11|  10|30-12-1987|     34|        11|\n",
      "|    Data Analytics|     June 12, 1975|     Holly| Schwartz|    12|  11|12-06-1975|     46|        12|\n",
      "|  Computer Science|      July 2, 1985|     April|    Black|    11|  12|02-07-1985|     37|        11|\n",
      "|  Computer Science|     July 22, 1980|     Irene|  Bradley|    13|  13|22-07-1980|     41|        13|\n",
      "|        Psychology|   7 February 1986|      Mark|    Weber|    12|  14|07-02-1986|     36|        12|\n",
      "|       Informatics|      May 18, 1987|     Rosie|   Norman|     9|  15|18-05-1987|     35|         9|\n",
      "|          Business|   August 10, 1984|    Martin|   Steele|     7|  16|10-08-1984|     37|         7|\n",
      "|  Machine Learning|  16 December 1990|     Colin| Martinez|     9|  17|16-12-1990|     31|         9|\n",
      "|    Data Analytics|           unknown|   Bridget|    Twain|     6|  18|   unknown|unknown|         6|\n",
      "|          Business|      7 March 1980|   Darlene|    Mills|    19|  19|07-03-1980|     42|        20|\n",
      "|    Data Analytics|      June 2, 1985|   Zachary|       --|    10|  20|02-06-1985|     37|        10|\n",
      "+------------------+------------------+----------+---------+------+----+----------+-------+----------+\n",
      "\n"
     ]
    }
   ],
   "source": [
    "df.show()"
   ]
  },
  {
   "cell_type": "markdown",
   "id": "fb072a22",
   "metadata": {},
   "source": [
    "### Create a histogram on the new points created in the task 5."
   ]
  },
  {
   "cell_type": "code",
   "execution_count": 33,
   "id": "109e0ad5",
   "metadata": {
    "scrolled": true
   },
   "outputs": [
    {
     "data": {
      "text/plain": [
       "Text(0, 0.5, 'New Points')"
      ]
     },
     "execution_count": 33,
     "metadata": {},
     "output_type": "execute_result"
    },
    {
     "data": {
      "image/png": "[encoded data removed]",
      "text/plain": [
       "<Figure size 432x288 with 1 Axes>"
      ]
     },
     "metadata": {
      "needs_background": "light"
     },
     "output_type": "display_data"
    }
   ],
   "source": [
    "import matplotlib.pyplot as plt\n",
    "x = np.array(df.select(\"new_points\").collect()) \n",
    "plt.hist(x , color = 'green')\n",
    "plt.xlabel('Data points')\n",
    "plt.ylabel('New Points')"
   ]
  },
  {
   "cell_type": "markdown",
   "id": "8fb6de59",
   "metadata": {},
   "source": [
    "# Exercise 2: Manipulating Recommender Dataset with Apache Spark"
   ]
  },
  {
   "cell_type": "markdown",
   "id": "151c767f",
   "metadata": {},
   "source": [
    "### A tagging session for a user can be defned as the duration in which he/she generated tagging activities. Typically, an inactive duration of 30 mins is considered as a termination of the tagging session. Your task is to separate out tagging sessions for each user."
   ]
  },
  {
   "cell_type": "code",
   "execution_count": 34,
   "id": "639e38c8",
   "metadata": {},
   "outputs": [],
   "source": [
    "from pyspark import SparkFiles\n",
    "df_tags = sqlContext.read.csv(SparkFiles.get(\"C:/Users/HP/tags.csv\"), header=True, inferSchema= True)"
   ]
  },
  {
   "cell_type": "code",
   "execution_count": 35,
   "id": "815c2646",
   "metadata": {},
   "outputs": [
    {
     "name": "stdout",
     "output_type": "stream",
     "text": [
      "+------+-------+--------------------+----------+\n",
      "|UserID|MovieID|                 Tag| Timestamp|\n",
      "+------+-------+--------------------+----------+\n",
      "|    15|   4973|          excellent!|1215184630|\n",
      "|    20|   1747|            politics|1188263867|\n",
      "|    20|   1747|              satire|1188263867|\n",
      "|    20|   2424|     chick flick 212|1188263835|\n",
      "|    20|   2424|               hanks|1188263835|\n",
      "|    20|   2424|                ryan|1188263835|\n",
      "|    20|   2947|              action|1188263755|\n",
      "|    20|   2947|                bond|1188263756|\n",
      "|    20|   3033|               spoof|1188263880|\n",
      "|    20|   3033|           star wars|1188263880|\n",
      "|    20|   7438|              bloody|1188263801|\n",
      "|    20|   7438|             kung fu|1188263801|\n",
      "|    20|   7438|           Tarantino|1188263801|\n",
      "|    21|  55247|                   R|1205081506|\n",
      "|    21|  55253|               NC-17|1205081488|\n",
      "|    25|     50|        Kevin Spacey|1166101426|\n",
      "|    25|   6709|         Johnny Depp|1162147221|\n",
      "|    31|     65|        buddy comedy|1188263759|\n",
      "|    31|    546|strangely compelling|1188263674|\n",
      "|    31|   1091|         catastrophe|1188263741|\n",
      "+------+-------+--------------------+----------+\n",
      "only showing top 20 rows\n",
      "\n"
     ]
    }
   ],
   "source": [
    "df_tags.show()"
   ]
  },
  {
   "cell_type": "code",
   "execution_count": 36,
   "id": "afa27cb5",
   "metadata": {},
   "outputs": [
    {
     "name": "stdout",
     "output_type": "stream",
     "text": [
      "+------+-------+--------------------+----------+\n",
      "|UserID|MovieID|                 Tag| Timestamp|\n",
      "+------+-------+--------------------+----------+\n",
      "|    15|   4973|          excellent!|1215184630|\n",
      "|    20|   1747|            politics|1188263867|\n",
      "|    20|   1747|              satire|1188263867|\n",
      "|    20|   2424|     chick flick 212|1188263835|\n",
      "|    20|   2424|               hanks|1188263835|\n",
      "|    20|   2424|                ryan|1188263835|\n",
      "|    20|   2947|              action|1188263755|\n",
      "|    20|   2947|                bond|1188263756|\n",
      "|    20|   3033|               spoof|1188263880|\n",
      "|    20|   3033|           star wars|1188263880|\n",
      "|    20|   7438|              bloody|1188263801|\n",
      "|    20|   7438|             kung fu|1188263801|\n",
      "|    20|   7438|           Tarantino|1188263801|\n",
      "|    21|  55247|                   R|1205081506|\n",
      "|    21|  55253|               NC-17|1205081488|\n",
      "|    25|     50|        Kevin Spacey|1166101426|\n",
      "|    25|   6709|         Johnny Depp|1162147221|\n",
      "|    31|     65|        buddy comedy|1188263759|\n",
      "|    31|    546|strangely compelling|1188263674|\n",
      "|    31|   1091|         catastrophe|1188263741|\n",
      "+------+-------+--------------------+----------+\n",
      "only showing top 20 rows\n",
      "\n"
     ]
    }
   ],
   "source": [
    "df_tags.orderBy(col(\"Timestamp\").desc())\n",
    "df_tags.show()"
   ]
  },
  {
   "cell_type": "code",
   "execution_count": 37,
   "id": "75ec9a78",
   "metadata": {},
   "outputs": [],
   "source": [
    "from pyspark.sql.window import Window\n",
    "from pyspark.sql.functions import row_number"
   ]
  },
  {
   "cell_type": "markdown",
   "id": "85a9089d",
   "metadata": {},
   "source": [
    "### First Step\n",
    "1. getting the previous timestamp for each UserID so that it can be used for calculating the differnce in the next step"
   ]
  },
  {
   "cell_type": "code",
   "execution_count": 38,
   "id": "930fbe36",
   "metadata": {},
   "outputs": [],
   "source": [
    "df_tags = df_tags.withColumn(\n",
    "    \"session_id\",\n",
    "    F.lag(\"Timestamp\").over(Window.partitionBy(\"UserID\").orderBy(\"Timestamp\")),\n",
    ")"
   ]
  },
  {
   "cell_type": "code",
   "execution_count": 39,
   "id": "29c1005b",
   "metadata": {},
   "outputs": [
    {
     "name": "stdout",
     "output_type": "stream",
     "text": [
      "+------+-------+--------------------+----------+----------+\n",
      "|UserID|MovieID|                 Tag| Timestamp|session_id|\n",
      "+------+-------+--------------------+----------+----------+\n",
      "|    15|   4973|          excellent!|1215184630|      null|\n",
      "|    20|   2947|              action|1188263755|      null|\n",
      "|    20|   2947|                bond|1188263756|1188263755|\n",
      "|    20|   7438|              bloody|1188263801|1188263756|\n",
      "|    20|   7438|             kung fu|1188263801|1188263801|\n",
      "|    20|   7438|           Tarantino|1188263801|1188263801|\n",
      "|    20|   2424|     chick flick 212|1188263835|1188263801|\n",
      "|    20|   2424|               hanks|1188263835|1188263835|\n",
      "|    20|   2424|                ryan|1188263835|1188263835|\n",
      "|    20|   1747|            politics|1188263867|1188263835|\n",
      "|    20|   1747|              satire|1188263867|1188263867|\n",
      "|    20|   3033|               spoof|1188263880|1188263867|\n",
      "|    20|   3033|           star wars|1188263880|1188263880|\n",
      "|    31|   6373|   comedy of manners|1188263644|      null|\n",
      "|    31|    546|strangely compelling|1188263674|1188263644|\n",
      "|    31|   2116|                Epic|1188263707|1188263674|\n",
      "|    31|   1091|         catastrophe|1188263741|1188263707|\n",
      "|    31|     65|        buddy comedy|1188263759|1188263741|\n",
      "|    48|  54775|The Director Shou...|1215135517|      null|\n",
      "|    48|  54290|Why the terrorist...|1215135611|1215135517|\n",
      "+------+-------+--------------------+----------+----------+\n",
      "only showing top 20 rows\n",
      "\n"
     ]
    }
   ],
   "source": [
    "df_tags.show()"
   ]
  },
  {
   "cell_type": "markdown",
   "id": "439fcf30",
   "metadata": {},
   "source": [
    "### Second Step\n",
    "Assigning 1 to sessions where the differnce of timestamp and previous timestamp is greater than 1800 which is 30 mins otherwise its 0"
   ]
  },
  {
   "cell_type": "code",
   "execution_count": 40,
   "id": "39d92392",
   "metadata": {},
   "outputs": [
    {
     "name": "stdout",
     "output_type": "stream",
     "text": [
      "+------+-------+--------------------+----------+----------+\n",
      "|UserID|MovieID|                 Tag| Timestamp|session_id|\n",
      "+------+-------+--------------------+----------+----------+\n",
      "|    15|   4973|          excellent!|1215184630|         1|\n",
      "|    20|   2947|              action|1188263755|         1|\n",
      "|    20|   2947|                bond|1188263756|         0|\n",
      "|    20|   7438|              bloody|1188263801|         0|\n",
      "|    20|   7438|             kung fu|1188263801|         0|\n",
      "|    20|   7438|           Tarantino|1188263801|         0|\n",
      "|    20|   2424|     chick flick 212|1188263835|         0|\n",
      "|    20|   2424|               hanks|1188263835|         0|\n",
      "|    20|   2424|                ryan|1188263835|         0|\n",
      "|    20|   1747|            politics|1188263867|         0|\n",
      "|    20|   1747|              satire|1188263867|         0|\n",
      "|    20|   3033|               spoof|1188263880|         0|\n",
      "|    20|   3033|           star wars|1188263880|         0|\n",
      "|    31|   6373|   comedy of manners|1188263644|         1|\n",
      "|    31|    546|strangely compelling|1188263674|         0|\n",
      "|    31|   2116|                Epic|1188263707|         0|\n",
      "|    31|   1091|         catastrophe|1188263741|         0|\n",
      "|    31|     65|        buddy comedy|1188263759|         0|\n",
      "|    48|  54775|The Director Shou...|1215135517|         1|\n",
      "|    48|  54290|Why the terrorist...|1215135611|         0|\n",
      "+------+-------+--------------------+----------+----------+\n",
      "only showing top 20 rows\n",
      "\n"
     ]
    }
   ],
   "source": [
    "df_tags = df_tags.withColumn(\n",
    "    \"session_id\",\n",
    "    F.when(F.col(\"timestamp\") - F.col(\"session_id\") <= 1800, 0).otherwise(1),\n",
    ")\n",
    "df_tags.show()"
   ]
  },
  {
   "cell_type": "markdown",
   "id": "07ed5e25",
   "metadata": {},
   "source": [
    "3. creating a unique id per session by calculating sum of all the assigned values above for each user and then using order by of sql to sort in ascendinf order"
   ]
  },
  {
   "cell_type": "code",
   "execution_count": 41,
   "id": "dc1fb8c1",
   "metadata": {
    "scrolled": true
   },
   "outputs": [
    {
     "name": "stdout",
     "output_type": "stream",
     "text": [
      "+------+-------+--------------------+----------+----------+\n",
      "|UserID|MovieID|                 Tag| Timestamp|session_id|\n",
      "+------+-------+--------------------+----------+----------+\n",
      "|    15|   4973|          excellent!|1215184630|         1|\n",
      "|    20|   2947|              action|1188263755|         1|\n",
      "|    20|   2947|                bond|1188263756|         1|\n",
      "|    20|   7438|              bloody|1188263801|         1|\n",
      "|    20|   7438|             kung fu|1188263801|         1|\n",
      "|    20|   7438|           Tarantino|1188263801|         1|\n",
      "|    20|   2424|     chick flick 212|1188263835|         1|\n",
      "|    20|   2424|               hanks|1188263835|         1|\n",
      "|    20|   2424|                ryan|1188263835|         1|\n",
      "|    20|   1747|            politics|1188263867|         1|\n",
      "|    20|   1747|              satire|1188263867|         1|\n",
      "|    20|   3033|               spoof|1188263880|         1|\n",
      "|    20|   3033|           star wars|1188263880|         1|\n",
      "|    31|   6373|   comedy of manners|1188263644|         1|\n",
      "|    31|    546|strangely compelling|1188263674|         1|\n",
      "|    31|   2116|                Epic|1188263707|         1|\n",
      "|    31|   1091|         catastrophe|1188263741|         1|\n",
      "|    31|     65|        buddy comedy|1188263759|         1|\n",
      "|    48|  54775|The Director Shou...|1215135517|         1|\n",
      "|    48|  54290|Why the terrorist...|1215135611|         1|\n",
      "+------+-------+--------------------+----------+----------+\n",
      "only showing top 20 rows\n",
      "\n"
     ]
    }
   ],
   "source": [
    "#\n",
    "df_tags = df_tags.withColumn(\n",
    "    \"session_id\",\n",
    "    F.sum(\"session_id\").over(Window.partitionBy(\"userid\").orderBy(\"timestamp\")),\n",
    ")\n",
    "df_tags.show()"
   ]
  },
  {
   "cell_type": "markdown",
   "id": "1e813e31",
   "metadata": {},
   "source": [
    "applying dense_rank function of sql which return the rank of each row within a result set partition, with no gaps in the ranking values. The rank of a specific row is one plus the number of distinct rank values that come before that specific row"
   ]
  },
  {
   "cell_type": "code",
   "execution_count": 42,
   "id": "be98917f",
   "metadata": {},
   "outputs": [
    {
     "name": "stdout",
     "output_type": "stream",
     "text": [
      "+------+-------+-----------------+----------+----------+\n",
      "|UserID|MovieID|              Tag| Timestamp|session_id|\n",
      "+------+-------+-----------------+----------+----------+\n",
      "|    15|   4973|       excellent!|1215184630|         1|\n",
      "|    20|   2947|           action|1188263755|         2|\n",
      "|    20|   2947|             bond|1188263756|         2|\n",
      "|    20|   7438|           bloody|1188263801|         2|\n",
      "|    20|   7438|          kung fu|1188263801|         2|\n",
      "|    20|   7438|        Tarantino|1188263801|         2|\n",
      "|    20|   2424|  chick flick 212|1188263835|         2|\n",
      "|    20|   2424|            hanks|1188263835|         2|\n",
      "|    20|   2424|             ryan|1188263835|         2|\n",
      "|    20|   1747|         politics|1188263867|         2|\n",
      "|    20|   1747|           satire|1188263867|         2|\n",
      "|    20|   3033|            spoof|1188263880|         2|\n",
      "|    20|   3033|        star wars|1188263880|         2|\n",
      "|    21|  55247|                R|1205081506|         3|\n",
      "|    21|  55253|            NC-17|1205081488|         3|\n",
      "|    25|   6709|      Johnny Depp|1162147221|         4|\n",
      "|    25|     50|     Kevin Spacey|1166101426|         5|\n",
      "|    31|   1091|      catastrophe|1188263741|         6|\n",
      "|    31|     65|     buddy comedy|1188263759|         6|\n",
      "|    31|   6373|comedy of manners|1188263644|         6|\n",
      "+------+-------+-----------------+----------+----------+\n",
      "only showing top 20 rows\n",
      "\n"
     ]
    }
   ],
   "source": [
    "# create a unic id per session per user\n",
    "df_tags = df_tags.withColumn(\n",
    "    \"session_id\", F.dense_rank().over(Window.orderBy(\"userid\", \"session_id\"))\n",
    ")\n",
    "df_tags.show()"
   ]
  },
  {
   "cell_type": "markdown",
   "id": "d1a56966",
   "metadata": {},
   "source": [
    "### Once you have all the tagging sessions for each user, calculate the frequency of tagging for each user session.\n",
    "1. here calculating the frequency for each user by using the sql count function and grouping by the session id and users to get the frequecy for each user"
   ]
  },
  {
   "cell_type": "code",
   "execution_count": 43,
   "id": "febdee0b",
   "metadata": {
    "scrolled": true
   },
   "outputs": [
    {
     "name": "stdout",
     "output_type": "stream",
     "text": [
      "+------+----------+-----+\n",
      "|UserID|session_id|count|\n",
      "+------+----------+-----+\n",
      "|    15|         1|    1|\n",
      "|    20|         2|   12|\n",
      "|    21|         3|    2|\n",
      "|    25|         4|    1|\n",
      "|    25|         5|    1|\n",
      "|    31|         6|    5|\n",
      "|    32|         7|    1|\n",
      "|    39|         8|    5|\n",
      "|    48|         9|    2|\n",
      "|    49|        10|   15|\n",
      "|    75|        11|    1|\n",
      "|    78|        12|    1|\n",
      "|   109|        13|   11|\n",
      "|   109|        14|    2|\n",
      "|   109|        15|    3|\n",
      "|   109|        16|    1|\n",
      "|   109|        17|    1|\n",
      "|   109|        18|    1|\n",
      "|   109|        19|    4|\n",
      "|   109|        20|    1|\n",
      "+------+----------+-----+\n",
      "only showing top 20 rows\n",
      "\n"
     ]
    }
   ],
   "source": [
    "df_parb = df_tags.groupBy(['UserID','session_id']).count()\n",
    "df_parb.show()"
   ]
  },
  {
   "cell_type": "markdown",
   "id": "213caedb",
   "metadata": {},
   "source": [
    "### Find a mean and standard deviation of the tagging frequency of each user.\n",
    "using sql aggregate function of mean to calculate mean of frequency/count column "
   ]
  },
  {
   "cell_type": "code",
   "execution_count": 44,
   "id": "f63d864d",
   "metadata": {
    "scrolled": false
   },
   "outputs": [
    {
     "name": "stdout",
     "output_type": "stream",
     "text": [
      "+------+----------+----------+\n",
      "|UserID|session_id|avg(count)|\n",
      "+------+----------+----------+\n",
      "|    15|         1|       1.0|\n",
      "|    20|         2|      12.0|\n",
      "|    21|         3|       2.0|\n",
      "|    25|         4|       1.0|\n",
      "|    25|         5|       1.0|\n",
      "|    31|         6|       5.0|\n",
      "|    32|         7|       1.0|\n",
      "|    39|         8|       5.0|\n",
      "|    48|         9|       2.0|\n",
      "|    49|        10|      15.0|\n",
      "+------+----------+----------+\n",
      "only showing top 10 rows\n",
      "\n"
     ]
    }
   ],
   "source": [
    "df_parb1 = df_parb.groupBy('UserID','session_id').agg({'count': 'mean'})\n",
    "df_parb1.show(10)"
   ]
  },
  {
   "cell_type": "markdown",
   "id": "d5e9bc5e",
   "metadata": {},
   "source": [
    "using sql aggregate function of std to calculate std of frequency/count column"
   ]
  },
  {
   "cell_type": "code",
   "execution_count": 45,
   "id": "fe8b8b23",
   "metadata": {},
   "outputs": [
    {
     "name": "stdout",
     "output_type": "stream",
     "text": [
      "+------+------------------+\n",
      "|UserID|     stddev(count)|\n",
      "+------+------------------+\n",
      "|    15|              null|\n",
      "|    20|              null|\n",
      "|    21|              null|\n",
      "|    25|               0.0|\n",
      "|    31|              null|\n",
      "|    32|              null|\n",
      "|    39|              null|\n",
      "|    48|              null|\n",
      "|    49|              null|\n",
      "|    75|              null|\n",
      "|    78|              null|\n",
      "|   109|3.2702361450580977|\n",
      "|   127|              null|\n",
      "|   133|              null|\n",
      "|   146| 9.010056652425451|\n",
      "|   147|              null|\n",
      "|   170|              null|\n",
      "|   175|               0.0|\n",
      "|   181|              null|\n",
      "|   190|               7.0|\n",
      "+------+------------------+\n",
      "only showing top 20 rows\n",
      "\n"
     ]
    }
   ],
   "source": [
    "df_parb2 = df_parb.groupBy('UserID').agg({'count': 'stddev'})\n",
    "df_parb2.show(20)"
   ]
  },
  {
   "cell_type": "markdown",
   "id": "099926d2",
   "metadata": {},
   "source": [
    "### Find a mean and standard deviation of the tagging frequency for across users.\n",
    "1. converting the mean into numpy array to calulate the global mean and standard deviation usimg numpy mean function \n",
    "2. for standard deviation calculating the std by using aggregate function od sql"
   ]
  },
  {
   "cell_type": "code",
   "execution_count": 46,
   "id": "828d222b",
   "metadata": {},
   "outputs": [],
   "source": [
    "avg = np.array(df_parb1.select(\"avg(count)\").collect()) "
   ]
  },
  {
   "cell_type": "code",
   "execution_count": 47,
   "id": "cb68f4c5",
   "metadata": {},
   "outputs": [
    {
     "name": "stdout",
     "output_type": "stream",
     "text": [
      "mean:  7.299526500687338\n",
      "std:  19.248910998850313\n"
     ]
    }
   ],
   "source": [
    "mean = np.mean(avg)\n",
    "print('mean: ',mean)\n",
    "std = df_parb2.agg({'stddev(count)': 'stddev'}).collect()\n",
    "value_std =std[0][0]\n",
    "print('std: ', value_std)"
   ]
  },
  {
   "cell_type": "markdown",
   "id": "0825aa94",
   "metadata": {},
   "source": [
    "### Provide the list of users with a mean tagging frequency within the two standard deviation from the mean frequency of all users.\n",
    "Calculating std plus by adding the mean and two std and then calculating std minus by subtrating the mean and 2* std"
   ]
  },
  {
   "cell_type": "code",
   "execution_count": 48,
   "id": "299f293b",
   "metadata": {},
   "outputs": [],
   "source": [
    "std_plus = mean+2*std[0][0]\n",
    "std_minus = mean-2*std[0][0]"
   ]
  },
  {
   "cell_type": "markdown",
   "id": "4cd7d67a",
   "metadata": {},
   "source": [
    "here, adding a column by comparing each user count with the std_plus and std_minus. If the count is greater than std_minus than we assign count as 1 otherwise its 0 "
   ]
  },
  {
   "cell_type": "code",
   "execution_count": 50,
   "id": "dc10d705",
   "metadata": {
    "scrolled": true
   },
   "outputs": [
    {
     "name": "stdout",
     "output_type": "stream",
     "text": [
      "+------+----------+---------+-----+\n",
      "|UserID|session_id|Frequency|count|\n",
      "+------+----------+---------+-----+\n",
      "|    15|         1|        1|    1|\n",
      "|    20|         2|       12|    1|\n",
      "|    21|         3|        2|    1|\n",
      "|    25|         4|        1|    1|\n",
      "|    25|         5|        1|    1|\n",
      "|    31|         6|        5|    1|\n",
      "|    32|         7|        1|    1|\n",
      "|    39|         8|        5|    1|\n",
      "|    48|         9|        2|    1|\n",
      "|    49|        10|       15|    1|\n",
      "|    75|        11|        1|    1|\n",
      "|    78|        12|        1|    1|\n",
      "|   109|        13|       11|    1|\n",
      "|   109|        14|        2|    1|\n",
      "|   109|        15|        3|    1|\n",
      "|   109|        16|        1|    1|\n",
      "|   109|        17|        1|    1|\n",
      "|   109|        18|        1|    1|\n",
      "|   109|        19|        4|    1|\n",
      "|   109|        20|        1|    1|\n",
      "|   109|        21|        1|    1|\n",
      "|   127|        22|       26|    1|\n",
      "|   133|        23|        5|    1|\n",
      "|   146|        24|        1|    1|\n",
      "|   146|        25|        1|    1|\n",
      "|   146|        26|        2|    1|\n",
      "|   146|        27|       12|    1|\n",
      "|   146|        28|        2|    1|\n",
      "|   146|        29|        4|    1|\n",
      "|   146|        30|       18|    1|\n",
      "|   146|        31|       53|    0|\n",
      "|   146|        32|        3|    1|\n",
      "|   146|        33|        3|    1|\n",
      "|   146|        34|        2|    1|\n",
      "|   146|        35|        2|    1|\n",
      "|   146|        36|        2|    1|\n",
      "|   146|        37|        1|    1|\n",
      "|   146|        38|        1|    1|\n",
      "|   146|        39|        1|    1|\n",
      "|   146|        40|        4|    1|\n",
      "|   146|        41|        1|    1|\n",
      "|   146|        42|        1|    1|\n",
      "|   146|        43|        2|    1|\n",
      "|   146|        44|        4|    1|\n",
      "|   146|        45|        2|    1|\n",
      "|   146|        46|        2|    1|\n",
      "|   146|        47|        2|    1|\n",
      "|   146|        48|        8|    1|\n",
      "|   146|        49|        4|    1|\n",
      "|   146|        50|        1|    1|\n",
      "+------+----------+---------+-----+\n",
      "only showing top 50 rows\n",
      "\n"
     ]
    }
   ],
   "source": [
    "df_parb = df_parb.withColumnRenamed(\"count\",\"Frequency\")\n",
    "from pyspark.sql.functions import when\n",
    "df_final = df_parb.withColumn(\"count\", when(df_parb.Frequency<std_plus, when(df_parb.Frequency>std_minus,1).otherwise(0)).otherwise(0))\n",
    "df_final.show(50)"
   ]
  },
  {
   "cell_type": "markdown",
   "id": "09618ea4",
   "metadata": {},
   "source": [
    "1. total number of users with in 2 standard deviations"
   ]
  },
  {
   "cell_type": "code",
   "execution_count": 52,
   "id": "9796f03f",
   "metadata": {},
   "outputs": [
    {
     "name": "stdout",
     "output_type": "stream",
     "text": [
      "+------------+\n",
      "|count(count)|\n",
      "+------------+\n",
      "|       12739|\n",
      "+------------+\n",
      "\n"
     ]
    }
   ],
   "source": [
    "df_final.createOrReplaceTempView(\"data\")\n",
    "spark.sql(\"select count(count) from data where count=1\").show()"
   ]
  },
  {
   "cell_type": "code",
   "execution_count": null,
   "id": "eed62106",
   "metadata": {},
   "outputs": [],
   "source": []
  }
 ],
 "metadata": {
  "kernelspec": {
   "display_name": "Python 3 (ipykernel)",
   "language": "python",
   "name": "python3"
  },
  "language_info": {
   "codemirror_mode": {
    "name": "ipython",
    "version": 3
   },
   "file_extension": ".py",
   "mimetype": "text/x-python",
   "name": "python",
   "nbconvert_exporter": "python",
   "pygments_lexer": "ipython3",
   "version": "3.9.7"
  }
 },
 "nbformat": 4,
 "nbformat_minor": 5
}
